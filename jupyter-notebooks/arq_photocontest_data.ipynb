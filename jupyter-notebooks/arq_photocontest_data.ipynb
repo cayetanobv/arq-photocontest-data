{
 "cells": [
  {
   "cell_type": "code",
   "execution_count": 60,
   "metadata": {
    "collapsed": true,
    "deletable": true,
    "editable": true
   },
   "outputs": [],
   "source": [
    "import pandas as pd"
   ]
  },
  {
   "cell_type": "code",
   "execution_count": 61,
   "metadata": {
    "collapsed": true,
    "deletable": true,
    "editable": true
   },
   "outputs": [],
   "source": [
    "from config import cfgInfo"
   ]
  },
  {
   "cell_type": "code",
   "execution_count": 62,
   "metadata": {
    "collapsed": true,
    "deletable": true,
    "editable": true
   },
   "outputs": [],
   "source": [
    "data = \"data/arq_photocontest_data.csv\""
   ]
  },
  {
   "cell_type": "code",
   "execution_count": 63,
   "metadata": {
    "collapsed": false,
    "deletable": true,
    "editable": true
   },
   "outputs": [],
   "source": [
    "df = pd.read_csv(data,sep=';')"
   ]
  },
  {
   "cell_type": "code",
   "execution_count": 64,
   "metadata": {
    "collapsed": false,
    "deletable": true,
    "editable": true
   },
   "outputs": [
    {
     "data": {
      "text/html": [
       "<div>\n",
       "<table border=\"1\" class=\"dataframe\">\n",
       "  <thead>\n",
       "    <tr style=\"text-align: right;\">\n",
       "      <th></th>\n",
       "      <th>ref</th>\n",
       "      <th>nationality_en</th>\n",
       "      <th>nationality_es</th>\n",
       "      <th>photo</th>\n",
       "      <th>photo_locality</th>\n",
       "      <th>photo_country_en</th>\n",
       "      <th>photo_country_es</th>\n",
       "      <th>date</th>\n",
       "    </tr>\n",
       "  </thead>\n",
       "  <tbody>\n",
       "    <tr>\n",
       "      <th>0</th>\n",
       "      <td>ASF_01</td>\n",
       "      <td>Spain</td>\n",
       "      <td>España</td>\n",
       "      <td>Canasta</td>\n",
       "      <td>País Vasco</td>\n",
       "      <td>Spain</td>\n",
       "      <td>España</td>\n",
       "      <td>01/08/2015</td>\n",
       "    </tr>\n",
       "    <tr>\n",
       "      <th>1</th>\n",
       "      <td>ASF_02</td>\n",
       "      <td>Spain</td>\n",
       "      <td>España</td>\n",
       "      <td>Campo de fútbol</td>\n",
       "      <td>Barajas. Madrid</td>\n",
       "      <td>Spain</td>\n",
       "      <td>España</td>\n",
       "      <td>01/08/2015</td>\n",
       "    </tr>\n",
       "    <tr>\n",
       "      <th>2</th>\n",
       "      <td>ASF_03</td>\n",
       "      <td>Brazil</td>\n",
       "      <td>Brasil</td>\n",
       "      <td>Japaratinga Brasil</td>\n",
       "      <td>Palmas, Tocantins</td>\n",
       "      <td>Brazil</td>\n",
       "      <td>Brasil</td>\n",
       "      <td>NaN</td>\n",
       "    </tr>\n",
       "    <tr>\n",
       "      <th>3</th>\n",
       "      <td>ASF_04</td>\n",
       "      <td>Denmark</td>\n",
       "      <td>Dinamarca</td>\n",
       "      <td>Cusco rooftop</td>\n",
       "      <td>Cuzco</td>\n",
       "      <td>Peru</td>\n",
       "      <td>Perú</td>\n",
       "      <td>01/09/2014</td>\n",
       "    </tr>\n",
       "    <tr>\n",
       "      <th>4</th>\n",
       "      <td>ASF_05</td>\n",
       "      <td>Denmark</td>\n",
       "      <td>Dinamarca</td>\n",
       "      <td>Yanque early morning</td>\n",
       "      <td>Cuzco</td>\n",
       "      <td>Peru</td>\n",
       "      <td>Perú</td>\n",
       "      <td>01/09/2014</td>\n",
       "    </tr>\n",
       "  </tbody>\n",
       "</table>\n",
       "</div>"
      ],
      "text/plain": [
       "      ref nationality_en nationality_es                 photo  \\\n",
       "0  ASF_01          Spain         España               Canasta   \n",
       "1  ASF_02          Spain         España       Campo de fútbol   \n",
       "2  ASF_03         Brazil         Brasil    Japaratinga Brasil   \n",
       "3  ASF_04        Denmark      Dinamarca         Cusco rooftop   \n",
       "4  ASF_05        Denmark      Dinamarca  Yanque early morning   \n",
       "\n",
       "       photo_locality photo_country_en photo_country_es       date   \n",
       "0         País Vasco             Spain           España  01/08/2015  \n",
       "1    Barajas. Madrid             Spain           España  01/08/2015  \n",
       "2  Palmas, Tocantins            Brazil           Brasil         NaN  \n",
       "3              Cuzco              Peru             Perú  01/09/2014  \n",
       "4              Cuzco              Peru             Perú  01/09/2014  "
      ]
     },
     "execution_count": 64,
     "metadata": {},
     "output_type": "execute_result"
    }
   ],
   "source": [
    "df.head()"
   ]
  },
  {
   "cell_type": "code",
   "execution_count": 65,
   "metadata": {
    "collapsed": false,
    "deletable": true,
    "editable": true
   },
   "outputs": [
    {
     "data": {
      "text/plain": [
       "ref                 690\n",
       "nationality_en      688\n",
       "nationality_es      688\n",
       "photo               690\n",
       "photo_locality      680\n",
       "photo_country_en    690\n",
       "photo_country_es    690\n",
       "date                656\n",
       "dtype: int64"
      ]
     },
     "execution_count": 65,
     "metadata": {},
     "output_type": "execute_result"
    }
   ],
   "source": [
    "df.count()"
   ]
  },
  {
   "cell_type": "code",
   "execution_count": 66,
   "metadata": {
    "collapsed": false,
    "deletable": true,
    "editable": true
   },
   "outputs": [],
   "source": [
    "import plotly.plotly as py\n",
    "import plotly.graph_objs as go\n",
    "import plotly.tools as tls"
   ]
  },
  {
   "cell_type": "code",
   "execution_count": 67,
   "metadata": {
    "collapsed": true,
    "deletable": true,
    "editable": true
   },
   "outputs": [],
   "source": [
    "ply_apikey = cfgInfo.get(\"ply_apikey\")"
   ]
  },
  {
   "cell_type": "code",
   "execution_count": 68,
   "metadata": {
    "collapsed": true,
    "deletable": true,
    "editable": true
   },
   "outputs": [],
   "source": [
    "ply_user = cfgInfo.get(\"ply_user\")"
   ]
  },
  {
   "cell_type": "code",
   "execution_count": 69,
   "metadata": {
    "collapsed": true,
    "deletable": true,
    "editable": true
   },
   "outputs": [],
   "source": [
    "py.sign_in(ply_user, ply_apikey)"
   ]
  },
  {
   "cell_type": "code",
   "execution_count": 70,
   "metadata": {
    "collapsed": false,
    "deletable": true,
    "editable": true
   },
   "outputs": [],
   "source": [
    "photo_ctry_ct = pd.DataFrame(df.groupby('photo_country_en').size()).sort_values(by=0,ascending=False);"
   ]
  },
  {
   "cell_type": "code",
   "execution_count": 71,
   "metadata": {
    "collapsed": false,
    "deletable": true,
    "editable": true
   },
   "outputs": [
    {
     "data": {
      "text/html": [
       "<div>\n",
       "<table border=\"1\" class=\"dataframe\">\n",
       "  <thead>\n",
       "    <tr style=\"text-align: right;\">\n",
       "      <th></th>\n",
       "      <th>cnt</th>\n",
       "    </tr>\n",
       "    <tr>\n",
       "      <th>photo_country_en</th>\n",
       "      <th></th>\n",
       "    </tr>\n",
       "  </thead>\n",
       "  <tbody>\n",
       "    <tr>\n",
       "      <th>Spain</th>\n",
       "      <td>56</td>\n",
       "    </tr>\n",
       "    <tr>\n",
       "      <th>India</th>\n",
       "      <td>54</td>\n",
       "    </tr>\n",
       "    <tr>\n",
       "      <th>Turkey</th>\n",
       "      <td>46</td>\n",
       "    </tr>\n",
       "    <tr>\n",
       "      <th>Brazil</th>\n",
       "      <td>44</td>\n",
       "    </tr>\n",
       "    <tr>\n",
       "      <th>Peru</th>\n",
       "      <td>40</td>\n",
       "    </tr>\n",
       "  </tbody>\n",
       "</table>\n",
       "</div>"
      ],
      "text/plain": [
       "                  cnt\n",
       "photo_country_en     \n",
       "Spain              56\n",
       "India              54\n",
       "Turkey             46\n",
       "Brazil             44\n",
       "Peru               40"
      ]
     },
     "execution_count": 71,
     "metadata": {},
     "output_type": "execute_result"
    }
   ],
   "source": [
    "photo_ctry_ct.rename(columns={0: \"cnt\"}, inplace=True)\n",
    "photo_ctry_ct.head()"
   ]
  },
  {
   "cell_type": "code",
   "execution_count": 72,
   "metadata": {
    "collapsed": false,
    "deletable": true,
    "editable": true
   },
   "outputs": [],
   "source": [
    "data = [go.Bar(x=photo_ctry_ct.index, y=photo_ctry_ct[\"cnt\"])]"
   ]
  },
  {
   "cell_type": "code",
   "execution_count": 73,
   "metadata": {
    "collapsed": true,
    "deletable": true,
    "editable": true
   },
   "outputs": [],
   "source": [
    "layout = go.Layout(\n",
    "    title='Number of pictures taken by country',\n",
    "    xaxis=dict(\n",
    "        title='',\n",
    "        tickangle=45,\n",
    "        titlefont=dict(\n",
    "            family='Arial, monospace',\n",
    "            size=18,\n",
    "            color='#7f7f7f'\n",
    "        )\n",
    "    ),\n",
    "    yaxis=dict(\n",
    "        title='Number of pictures',\n",
    "        titlefont=dict(\n",
    "            family='Arial, monospace',\n",
    "            size=14,\n",
    "            color='#7f7f7f'\n",
    "        )\n",
    "    )\n",
    ")"
   ]
  },
  {
   "cell_type": "code",
   "execution_count": 74,
   "metadata": {
    "collapsed": true,
    "deletable": true,
    "editable": true
   },
   "outputs": [],
   "source": [
    "fig = go.Figure(data=data, layout=layout)"
   ]
  },
  {
   "cell_type": "code",
   "execution_count": 75,
   "metadata": {
    "collapsed": true,
    "deletable": true,
    "editable": true
   },
   "outputs": [],
   "source": [
    "ply_url = py.plot(fig, filename='phototakenin-bar-chart', layout=layout)"
   ]
  },
  {
   "cell_type": "code",
   "execution_count": 76,
   "metadata": {
    "collapsed": false,
    "deletable": true,
    "editable": true,
    "scrolled": false
   },
   "outputs": [
    {
     "data": {
      "text/html": [
       "<iframe id=\"igraph\" scrolling=\"no\" style=\"border:none;\" seamless=\"seamless\" src=\"https://plot.ly/~cayetanobv/10.embed\" height=\"525\" width=\"100%\"></iframe>"
      ],
      "text/plain": [
       "<plotly.tools.PlotlyDisplay object>"
      ]
     },
     "execution_count": 76,
     "metadata": {},
     "output_type": "execute_result"
    }
   ],
   "source": [
    "tls.embed(ply_url)"
   ]
  },
  {
   "cell_type": "code",
   "execution_count": 77,
   "metadata": {
    "collapsed": true,
    "deletable": true,
    "editable": true
   },
   "outputs": [],
   "source": [
    "ntnlty_ctry_ct = pd.DataFrame(df.groupby('nationality_en').size()).sort_values(by=0,ascending=False);"
   ]
  },
  {
   "cell_type": "code",
   "execution_count": 78,
   "metadata": {
    "collapsed": false,
    "deletable": true,
    "editable": true
   },
   "outputs": [
    {
     "data": {
      "text/html": [
       "<div>\n",
       "<table border=\"1\" class=\"dataframe\">\n",
       "  <thead>\n",
       "    <tr style=\"text-align: right;\">\n",
       "      <th></th>\n",
       "      <th>cnt</th>\n",
       "    </tr>\n",
       "    <tr>\n",
       "      <th>nationality_en</th>\n",
       "      <th></th>\n",
       "    </tr>\n",
       "  </thead>\n",
       "  <tbody>\n",
       "    <tr>\n",
       "      <th>Spain</th>\n",
       "      <td>233</td>\n",
       "    </tr>\n",
       "    <tr>\n",
       "      <th>Turkey</th>\n",
       "      <td>53</td>\n",
       "    </tr>\n",
       "    <tr>\n",
       "      <th>Italy</th>\n",
       "      <td>52</td>\n",
       "    </tr>\n",
       "    <tr>\n",
       "      <th>Argentina</th>\n",
       "      <td>44</td>\n",
       "    </tr>\n",
       "    <tr>\n",
       "      <th>Portugal</th>\n",
       "      <td>36</td>\n",
       "    </tr>\n",
       "  </tbody>\n",
       "</table>\n",
       "</div>"
      ],
      "text/plain": [
       "                cnt\n",
       "nationality_en     \n",
       "Spain           233\n",
       "Turkey           53\n",
       "Italy            52\n",
       "Argentina        44\n",
       "Portugal         36"
      ]
     },
     "execution_count": 78,
     "metadata": {},
     "output_type": "execute_result"
    }
   ],
   "source": [
    "ntnlty_ctry_ct.rename(columns={0: \"cnt\"}, inplace=True)\n",
    "ntnlty_ctry_ct.head()"
   ]
  },
  {
   "cell_type": "code",
   "execution_count": 79,
   "metadata": {
    "collapsed": false,
    "deletable": true,
    "editable": true
   },
   "outputs": [],
   "source": [
    "data_2 = [go.Bar(x=ntnlty_ctry_ct.index, y=ntnlty_ctry_ct[\"cnt\"])]"
   ]
  },
  {
   "cell_type": "code",
   "execution_count": 80,
   "metadata": {
    "collapsed": true,
    "deletable": true,
    "editable": true
   },
   "outputs": [],
   "source": [
    "layout_2 = go.Layout(\n",
    "    title='Number of pictures taken by photographer\\'s nationality',\n",
    "    xaxis=dict(\n",
    "        title='',\n",
    "        tickangle=45,\n",
    "        titlefont=dict(\n",
    "            family='Arial, monospace',\n",
    "            size=18,\n",
    "            color='#7f7f7f'\n",
    "        )\n",
    "    ),\n",
    "    yaxis=dict(\n",
    "        title='Number of pictures',\n",
    "        titlefont=dict(\n",
    "            family='Arial, monospace',\n",
    "            size=14,\n",
    "            color='#7f7f7f'\n",
    "        )\n",
    "    )\n",
    ")"
   ]
  },
  {
   "cell_type": "code",
   "execution_count": 81,
   "metadata": {
    "collapsed": true,
    "deletable": true,
    "editable": true
   },
   "outputs": [],
   "source": [
    "fig_2 = go.Figure(data=data_2, layout=layout_2)"
   ]
  },
  {
   "cell_type": "code",
   "execution_count": 82,
   "metadata": {
    "collapsed": true,
    "deletable": true,
    "editable": true
   },
   "outputs": [],
   "source": [
    "ply_url_2 = py.plot(fig_2, filename='phototakennatnlty-bar-chart', layout=layout_2)"
   ]
  },
  {
   "cell_type": "code",
   "execution_count": 83,
   "metadata": {
    "collapsed": false,
    "deletable": true,
    "editable": true,
    "scrolled": true
   },
   "outputs": [
    {
     "data": {
      "text/html": [
       "<iframe id=\"igraph\" scrolling=\"no\" style=\"border:none;\" seamless=\"seamless\" src=\"https://plot.ly/~cayetanobv/12.embed\" height=\"525\" width=\"100%\"></iframe>"
      ],
      "text/plain": [
       "<plotly.tools.PlotlyDisplay object>"
      ]
     },
     "execution_count": 83,
     "metadata": {},
     "output_type": "execute_result"
    }
   ],
   "source": [
    "tls.embed(ply_url_2)"
   ]
  },
  {
   "cell_type": "code",
   "execution_count": 85,
   "metadata": {
    "collapsed": false,
    "deletable": true,
    "editable": true
   },
   "outputs": [],
   "source": [
    "photo_ctry_ct.to_csv('data/photo_ctry_ct.csv', header=True)"
   ]
  },
  {
   "cell_type": "code",
   "execution_count": 87,
   "metadata": {
    "collapsed": false,
    "deletable": true,
    "editable": true
   },
   "outputs": [],
   "source": [
    "ntnlty_ctry_ct.to_csv('data/ntnlty_ctry_ct.csv', header=True)"
   ]
  },
  {
   "cell_type": "code",
   "execution_count": 88,
   "metadata": {
    "collapsed": false,
    "deletable": true,
    "editable": true
   },
   "outputs": [],
   "source": [
    "from cartodb import CartoDBAPIKey, CartoDBException, FileImport"
   ]
  },
  {
   "cell_type": "code",
   "execution_count": 89,
   "metadata": {
    "collapsed": false,
    "deletable": true,
    "editable": true
   },
   "outputs": [],
   "source": [
    "API_KEY = cfgInfo.get(\"cb_apikey\")\n",
    "cartodb_domain = cfgInfo.get(\"cb_domain\")\n",
    "cl = CartoDBAPIKey(API_KEY, cartodb_domain)"
   ]
  },
  {
   "cell_type": "code",
   "execution_count": 90,
   "metadata": {
    "collapsed": false,
    "deletable": true,
    "editable": true
   },
   "outputs": [],
   "source": [
    "fi = FileImport(\"data/photo_ctry_ct.csv\", cl, create_vis='false', privacy='public')\n",
    "fi.run()"
   ]
  },
  {
   "cell_type": "code",
   "execution_count": 91,
   "metadata": {
    "collapsed": true,
    "deletable": true,
    "editable": true
   },
   "outputs": [],
   "source": [
    "fi_2 = FileImport(\"data/ntnlty_ctry_ct.csv\", cl, create_vis='false', privacy='public')\n",
    "fi_2.run()"
   ]
  },
  {
   "cell_type": "code",
   "execution_count": 1,
   "metadata": {
    "collapsed": true,
    "deletable": true,
    "editable": true
   },
   "outputs": [],
   "source": [
    "from IPython.display import HTML"
   ]
  },
  {
   "cell_type": "code",
   "execution_count": 6,
   "metadata": {
    "collapsed": false
   },
   "outputs": [],
   "source": [
    "cb_webmap_ntnlty_ctry_ct = '<iframe width=\"100%\" height=\"520\" frameborder=\"0\" src=\"https://cayetanobv.carto.com/viz/1940ebaa-8a2f-4b2f-a5f7-9f06b6c18208/embed_map\" allowfullscreen webkitallowfullscreen mozallowfullscreen oallowfullscreen msallowfullscreen></iframe>'"
   ]
  },
  {
   "cell_type": "code",
   "execution_count": 7,
   "metadata": {
    "collapsed": false
   },
   "outputs": [
    {
     "data": {
      "text/html": [
       "<iframe width=\"100%\" height=\"520\" frameborder=\"0\" src=\"https://cayetanobv.carto.com/viz/1940ebaa-8a2f-4b2f-a5f7-9f06b6c18208/embed_map\" allowfullscreen webkitallowfullscreen mozallowfullscreen oallowfullscreen msallowfullscreen></iframe>"
      ],
      "text/plain": [
       "<IPython.core.display.HTML object>"
      ]
     },
     "execution_count": 7,
     "metadata": {},
     "output_type": "execute_result"
    }
   ],
   "source": [
    "HTML(cb_webmap_ntnlty_ctry_ct)"
   ]
  },
  {
   "cell_type": "code",
   "execution_count": 8,
   "metadata": {
    "collapsed": true
   },
   "outputs": [],
   "source": [
    "cb_webmap_photo_ctry_ct = '<iframe width=\"100%\" height=\"520\" frameborder=\"0\" src=\"https://cayetanobv.carto.com/viz/bb3271ca-22f2-11e7-badd-0e3ff518bd15/embed_map\" allowfullscreen webkitallowfullscreen mozallowfullscreen oallowfullscreen msallowfullscreen></iframe>'"
   ]
  },
  {
   "cell_type": "code",
   "execution_count": 9,
   "metadata": {
    "collapsed": false
   },
   "outputs": [
    {
     "data": {
      "text/html": [
       "<iframe width=\"100%\" height=\"520\" frameborder=\"0\" src=\"https://cayetanobv.carto.com/viz/bb3271ca-22f2-11e7-badd-0e3ff518bd15/embed_map\" allowfullscreen webkitallowfullscreen mozallowfullscreen oallowfullscreen msallowfullscreen></iframe>"
      ],
      "text/plain": [
       "<IPython.core.display.HTML object>"
      ]
     },
     "execution_count": 9,
     "metadata": {},
     "output_type": "execute_result"
    }
   ],
   "source": [
    "HTML(cb_webmap_photo_ctry_ct)"
   ]
  },
  {
   "cell_type": "code",
   "execution_count": null,
   "metadata": {
    "collapsed": true
   },
   "outputs": [],
   "source": []
  }
 ],
 "metadata": {
  "kernelspec": {
   "display_name": "Python 3",
   "language": "python",
   "name": "python3"
  },
  "language_info": {
   "codemirror_mode": {
    "name": "ipython",
    "version": 3
   },
   "file_extension": ".py",
   "mimetype": "text/x-python",
   "name": "python",
   "nbconvert_exporter": "python",
   "pygments_lexer": "ipython3",
   "version": "3.6.0"
  }
 },
 "nbformat": 4,
 "nbformat_minor": 2
}
